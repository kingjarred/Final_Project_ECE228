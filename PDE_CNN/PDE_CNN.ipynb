{
 "cells": [
  {
   "cell_type": "code",
   "execution_count": 1,
   "metadata": {},
   "outputs": [],
   "source": [
    "import numpy as np\n",
    "import torch\n",
    "import torch.nn as nn\n",
    "import torch.optim as optim\n",
    "from scipy.sparse import diags, csc_matrix\n",
    "from scipy.sparse.linalg import cg, LinearOperator, spilu\n",
    "import time\n",
    "import scipy.sparse.linalg as spla\n",
    "from torch.utils.data import DataLoader, random_split\n",
    "import matplotlib.pyplot as plt\n",
    "from utils import averageMeter\n",
    "import pandas as pd"
   ]
  },
  {
   "cell_type": "code",
   "execution_count": 2,
   "metadata": {},
   "outputs": [],
   "source": [
    "def compute_accuracy(output, target):\n",
    "    # compute the accuracy of the prediction\n",
    "\n",
    "    acc = ((output - target).abs() < 1e-3).float().mean()\n",
    "\n",
    "    return acc"
   ]
  },
  {
   "cell_type": "code",
   "execution_count": 3,
   "metadata": {},
   "outputs": [],
   "source": [
    "def train(data_loader, model, optimizer, epoch, criterion, device='cpu'):\n",
    "    # set the model to training mode\n",
    "    model.train()\n",
    "\n",
    "    losses = averageMeter()\n",
    "    accuracy = averageMeter()\n",
    "    for (step, value) in enumerate(data_loader):\n",
    "\n",
    "        data = value[0].to(device)\n",
    "        target = value[1].to(device)\n",
    "\n",
    "        optimizer.zero_grad()\n",
    "\n",
    "        # forward the data to the model and get the output\n",
    "        output = model(data)\n",
    "\n",
    "        # compute accuracy\n",
    "        acc = compute_accuracy(output, target)\n",
    "        accuracy.update(acc.item(), data.size(0))\n",
    "\n",
    "        # compute loss with the output and the target\n",
    "        loss = criterion(output, target)\n",
    "\n",
    "        # backward (PyTorch computes backpropagation for you)\n",
    "        loss.backward()\n",
    "\n",
    "        optimizer.step()\n",
    "\n",
    "        # accumulate losses\n",
    "        losses.update(loss.item(), data.size(0))\n",
    "\n",
    "    print(f\"[Epoch: {epoch}]\\t lr: {optimizer.param_groups[0]['lr']:.4g}\\t \\\n",
    "      loss_train: {losses.avg:.4f}\\tacc_train: {accuracy.avg:.4f}\")\n",
    "    return losses.avg, accuracy.avg"
   ]
  },
  {
   "cell_type": "code",
   "execution_count": 4,
   "metadata": {},
   "outputs": [],
   "source": [
    "@torch.no_grad()\n",
    "def test(data_loader, model, criterion, device='cpu'):\n",
    "    # set the model to evaluation mode\n",
    "    model.eval()\n",
    "\n",
    "    losses = averageMeter()\n",
    "    accuracy = averageMeter()\n",
    "    for (step, value) in enumerate(data_loader):\n",
    "\n",
    "        data = value[0].to(device)\n",
    "        target = value[1].to(device)\n",
    "\n",
    "        # forward the data to the model and get the output\n",
    "        output = model(data)\n",
    "\n",
    "        # compute accuracy\n",
    "        acc = compute_accuracy(output, target)\n",
    "        accuracy.update(acc.item(), data.size(0))\n",
    "\n",
    "        # compute loss with the output and the target\n",
    "        loss = criterion(output, target)\n",
    "\n",
    "        # accumulate losses\n",
    "        losses.update(loss.item(), data.size(0))\n",
    "\n",
    "    return losses.avg, accuracy.avg"
   ]
  },
  {
   "cell_type": "code",
   "execution_count": 5,
   "metadata": {},
   "outputs": [],
   "source": [
    "class CNNPreconditioner(nn.Module):\n",
    "    def __init__(self):\n",
    "        super(CNNPreconditioner, self).__init__()\n",
    "        self.conv1 = nn.Conv2d(1, 16, 3, padding=1)\n",
    "        self.conv2 = nn.Conv2d(16, 32, 3, padding=1)\n",
    "        self.conv3 = nn.Conv2d(32, 1, 3, padding=1)\n",
    "        self.relu = nn.ReLU()\n",
    "\n",
    "    def forward(self, x):\n",
    "        x = self.relu(self.conv1(x))\n",
    "        x = self.relu(self.conv2(x))\n",
    "        x = self.conv3(x)\n",
    "        return x"
   ]
  },
  {
   "cell_type": "code",
   "execution_count": 6,
   "metadata": {},
   "outputs": [],
   "source": [
    "def train_CNN(train_set, test_set, batch_size=64, lr=0.1, n_epoch=20, eval_epoch=5):\n",
    "\n",
    "    # setup random seed\n",
    "    torch.manual_seed(1337)\n",
    "    torch.cuda.manual_seed(1337)\n",
    "    torch.backends.cudnn.deterministic = True\n",
    "    torch.backends.cudnn.benchmark = False\n",
    "\n",
    "    # setup model\n",
    "    model = CNNPreconditioner()\n",
    "    device = 'cpu'\n",
    "    if torch.cuda.is_available():\n",
    "        model = model.cuda()\n",
    "        device = 'cuda'\n",
    "\n",
    "    # setup data loader\n",
    "    train_loader = DataLoader(\n",
    "                    train_set,\n",
    "                    batch_size=batch_size,\n",
    "                    shuffle=True,\n",
    "                    drop_last=True\n",
    "                )\n",
    "\n",
    "    test_loader = DataLoader(\n",
    "                    test_set,\n",
    "                    batch_size=128,\n",
    "                    shuffle=False,\n",
    "                    drop_last=False\n",
    "                )\n",
    "\n",
    "    # setup optimizer\n",
    "    optimizer = optim.Adam(model.parameters(), lr=1e-3)\n",
    "\n",
    "    # setup loss function (criterion)\n",
    "    criterion = nn.MSELoss()\n",
    "\n",
    "    # training and evaluation\n",
    "    losses_train = []\n",
    "    accs_train = []\n",
    "    losses_test = []\n",
    "    accs_test = []\n",
    "    for ep in range(n_epoch):\n",
    "\n",
    "        # train an epoch and get the loss\n",
    "        loss_train, acc_train = train(train_loader, model, optimizer, ep, criterion, device)\n",
    "        losses_train.append(loss_train)\n",
    "        accs_train.append(acc_train)\n",
    "\n",
    "        if (ep + 1) % eval_epoch == 0:\n",
    "            # evaluate current model and get the loss\n",
    "            loss_test, acc_test = test(test_loader, model, criterion, device)\n",
    "            losses_test.append(loss_test)\n",
    "            accs_test.append(acc_test)\n",
    "            print(f'[val]\\tloss_test: {loss_test:.4f}\\tacc_test: {acc_test:.4f}')\n",
    "\n",
    "    # plot the training/testing loss and accuracy\n",
    "    fig, ax = plt.subplots(nrows=1, ncols=2, figsize=(8, 3))\n",
    "    ax[0].plot(np.arange(n_epoch), losses_train, color='b', label='train_loss')\n",
    "    ax[0].plot(np.linspace(0, n_epoch, n_epoch//eval_epoch), losses_test, color='r', label='test_loss')\n",
    "    ax[0].legend()\n",
    "\n",
    "    ax[1].plot(np.arange(n_epoch), accs_train, color='b', label='train_acc')\n",
    "    ax[1].plot(np.linspace(0, n_epoch, n_epoch//eval_epoch), accs_test, color='r', label='test_acc')\n",
    "    ax[1].legend()"
   ]
  },
  {
   "cell_type": "code",
   "execution_count": 7,
   "metadata": {},
   "outputs": [],
   "source": [
    "def generate_data(num_samples, n_values, equation_type='poisson'):\n",
    "    matrices = []\n",
    "    preconditioners = []\n",
    "    for n in n_values:\n",
    "        for _ in range(num_samples // len(n_values)):\n",
    "            if equation_type == 'poisson':\n",
    "                A, _ = poisson_equation(n)\n",
    "            elif equation_type == 'heat':\n",
    "                A, _ = heat_equation(n)\n",
    "            elif equation_type == 'wave':\n",
    "                A, _ = wave_equation(n)\n",
    "            elif equation_type == 'ill_poisson':\n",
    "                A, _ = ill_conditioned_poisson_equation(n)\n",
    "                \n",
    "            M_inv = np.linalg.inv(np.diag(np.diag(A)))\n",
    "            \n",
    "            # Normalize A and M_inv\n",
    "            A = (A - A.min()) / (A.max() - A.min())\n",
    "            M = (M_inv - M_inv.min()) / (M_inv.max() - M_inv.min())\n",
    "            \n",
    "            matrices.append(A)\n",
    "            preconditioners.append(M_inv)\n",
    "    return matrices, preconditioners"
   ]
  },
  {
   "cell_type": "code",
   "execution_count": 8,
   "metadata": {},
   "outputs": [],
   "source": [
    "class Dataset(torch.utils.data.Dataset):\n",
    "    def __init__(self, training_data):\n",
    "        self.training_data = training_data\n",
    "        self.data = training_data[0]\n",
    "\n",
    "    # get sample\n",
    "    def __getitem__(self, idx):\n",
    "        A = self.data[idx]\n",
    "\n",
    "        # convert to tensor\n",
    "        n = A.shape[0]\n",
    "        A_tensor = torch.tensor(A, dtype=torch.float32).reshape((1, n, n))\n",
    "\n",
    "        target = self.training_data[1][idx]\n",
    "        target = torch.tensor(target, dtype=torch.float32).reshape((1,n,n))\n",
    "\n",
    "        return A_tensor, target\n",
    "\n",
    "    def __len__(self):\n",
    "        return len(self.data)"
   ]
  },
  {
   "cell_type": "code",
   "execution_count": 9,
   "metadata": {},
   "outputs": [],
   "source": [
    "def cg_CNN(A, b, model, batch_size=1, tol=1e-10, max_iter=2000):\n",
    "    n = A.shape[0]\n",
    "    A_tensor = torch.tensor(A.reshape((batch_size, 1, n, n)), dtype=torch.float32)\n",
    "\n",
    "    start_time = time.time()\n",
    "\n",
    "    with torch.no_grad():\n",
    "        M_inv_pred = model(A_tensor).squeeze().numpy()\n",
    "        M_inv_pred = np.diag(np.diag(M_inv_pred))\n",
    "\n",
    "    def preconditioner(x):\n",
    "        return M_inv_pred @ x\n",
    "\n",
    "    M = LinearOperator((n, n), matvec=preconditioner)\n",
    "\n",
    "    x, info = cg(A, b, tol=tol, maxiter=max_iter, M=M)\n",
    "    elapsed_time = time.time() - start_time\n",
    "\n",
    "    return x, info, elapsed_time"
   ]
  },
  {
   "cell_type": "code",
   "execution_count": 10,
   "metadata": {},
   "outputs": [],
   "source": [
    "def jacobi(A):\n",
    "    M_inv = np.linalg.inv(np.diag(np.diag(A)))\n",
    "    return M_inv\n",
    "\n",
    "def gauss_seidel(A):\n",
    "    L = np.tril(A)\n",
    "    U = np.triu(A, 1)\n",
    "    M_inv = np.linalg.inv(L + U)\n",
    "    return M_inv\n",
    "\n",
    "def incomplete_cholesky(A):\n",
    "    A_sparse = csc_matrix(A)\n",
    "    A_ilu = spilu(A_sparse)\n",
    "    M_inv = np.linalg.inv(A_ilu.L.dot(A_ilu.L.T).toarray())\n",
    "    return M_inv"
   ]
  },
  {
   "cell_type": "code",
   "execution_count": 11,
   "metadata": {},
   "outputs": [],
   "source": [
    "# define conjugate gradient for classic preconditioner\n",
    "\n",
    "def cg_classic(A, b, preconditioner_type, tol=1e-10, max_iter=2000):\n",
    "    n = A.shape[0]\n",
    "    \n",
    "    start_time = time.time()\n",
    "    M_inv = preconditioner_type(A)\n",
    "\n",
    "    def preconditioner(x):\n",
    "        return M_inv @ x\n",
    "\n",
    "    M = LinearOperator((n, n), matvec=preconditioner)\n",
    "    \n",
    "    x, info = cg(A, b, tol=tol, maxiter=max_iter, M=M)\n",
    "    elapsed_time = time.time() - start_time\n",
    "    \n",
    "    return x, info, elapsed_time"
   ]
  },
  {
   "cell_type": "code",
   "execution_count": 12,
   "metadata": {},
   "outputs": [],
   "source": [
    "def results_test(n_values, num_samples, equation_type='poisson'):\n",
    "    results = []\n",
    "    for n in n_values:\n",
    "        \n",
    "        if equation_type == 'poisson':\n",
    "                A_test, b_test = poisson_equation(n)\n",
    "        elif equation_type == 'heat':\n",
    "                A_test, b_test = heat_equation(n)\n",
    "        elif equation_type == 'wave':\n",
    "                A_test, b_test = heat_equation(n)\n",
    "        elif equation_type == 'ill_poisson':\n",
    "                A_test, b_test = ill_conditioned_poisson_equation(n)\n",
    "        \n",
    "         # exact solution\n",
    "        x_exact = np.linalg.solve(A_test, b_test)\n",
    "\n",
    "        # measure time and error for each preconditioner\n",
    "        preconditioners_type = [jacobi, gauss_seidel, incomplete_cholesky]\n",
    "        preconditioner_names = [\"Jacobi\", \"Gauss-Seidel\", \"Incomplete Cholesky\"]\n",
    "\n",
    "        for preconditioner, name in zip(preconditioners_type, preconditioner_names):\n",
    "            x, _, elapsed_time = cg_classic(A_test, b_test, preconditioner)\n",
    "            error = np.linalg.norm(x - x_exact) / np.linalg.norm(x_exact)\n",
    "            results.append((n, name, elapsed_time, error))\n",
    "            print(f\"n={n}, Preconditioner={name}, Computation Time={elapsed_time:.4f} seconds, Relative Error={error:.4e}\")\n",
    "\n",
    "        # GNN preconditioner\n",
    "        x_cnn, _, cnn_time = cg_CNN(A_test, b_test, model)\n",
    "        cnn_error = np.linalg.norm(x_cnn - x_exact) / np.linalg.norm(x_exact)\n",
    "        results.append((n, \"CNN\", cnn_time, cnn_error))\n",
    "        print(f\"n={n}, Preconditioner=CNN, Computation Time={cnn_time:.4f} seconds, Relative Error={cnn_error:.4e}\")\n",
    "\n",
    "        # exact \n",
    "        start_time = time.time()\n",
    "        x_exact = np.linalg.solve(A_test, b_test)\n",
    "        exact_time = time.time() - start_time\n",
    "        results.append((n, \"Exact\", exact_time, 0.0))\n",
    "        print(f\"n={n}, Preconditioner=Exact, Computation Time={exact_time:.4f} seconds, Relative Error=0.0000\")\n",
    "\n",
    "        print(\"---------------\")\n",
    "    return results"
   ]
  },
  {
   "cell_type": "code",
   "execution_count": 13,
   "metadata": {},
   "outputs": [],
   "source": [
    "#Grid Size\n",
    "global nnn \n",
    "nnn = 128"
   ]
  },
  {
   "cell_type": "code",
   "execution_count": 14,
   "metadata": {},
   "outputs": [],
   "source": [
    "def poisson_equation(n, dx=0.01):\n",
    "    h = dx\n",
    "    main_diag = -2 * np.ones(n) / h**2\n",
    "    off_diag = np.ones(n - 1) / h**2\n",
    "    diagonals = [off_diag, main_diag, off_diag]\n",
    "    offsets = [-1, 0, 1]\n",
    "    A = diags(diagonals, offsets, shape=(n, n)).toarray()\n",
    "\n",
    "    # assume f(x) = 1\n",
    "    f = np.ones(n)\n",
    "    b = f * (h ** 2)\n",
    "\n",
    "    return A, b"
   ]
  },
  {
   "cell_type": "code",
   "execution_count": 15,
   "metadata": {},
   "outputs": [
    {
     "name": "stdout",
     "output_type": "stream",
     "text": [
      "[Epoch: 0]\t lr: 0.001\t       loss_train: 0.0005\tacc_train: 0.0083\n",
      "[Epoch: 1]\t lr: 0.001\t       loss_train: 0.0000\tacc_train: 0.4070\n",
      "[Epoch: 2]\t lr: 0.001\t       loss_train: 0.0000\tacc_train: 0.8794\n",
      "[Epoch: 3]\t lr: 0.001\t       loss_train: 0.0000\tacc_train: 0.9424\n",
      "[Epoch: 4]\t lr: 0.001\t       loss_train: 0.0000\tacc_train: 0.9520\n",
      "[val]\tloss_test: 0.0000\tacc_test: 0.9523\n",
      "[Epoch: 5]\t lr: 0.001\t       loss_train: 0.0000\tacc_train: 0.9567\n",
      "[Epoch: 6]\t lr: 0.001\t       loss_train: 0.0000\tacc_train: 0.9613\n",
      "[Epoch: 7]\t lr: 0.001\t       loss_train: 0.0000\tacc_train: 0.9672\n",
      "[Epoch: 8]\t lr: 0.001\t       loss_train: 0.0000\tacc_train: 0.9673\n",
      "[Epoch: 9]\t lr: 0.001\t       loss_train: 0.0000\tacc_train: 0.9676\n",
      "[val]\tloss_test: 0.0000\tacc_test: 0.9750\n",
      "[Epoch: 10]\t lr: 0.001\t       loss_train: 0.0000\tacc_train: 0.9751\n",
      "[Epoch: 11]\t lr: 0.001\t       loss_train: 0.0000\tacc_train: 0.9752\n",
      "[Epoch: 12]\t lr: 0.001\t       loss_train: 0.0000\tacc_train: 0.9754\n",
      "[Epoch: 13]\t lr: 0.001\t       loss_train: 0.0000\tacc_train: 0.9755\n",
      "[Epoch: 14]\t lr: 0.001\t       loss_train: 0.0000\tacc_train: 0.9787\n",
      "[val]\tloss_test: 0.0000\tacc_test: 0.9828\n",
      "[Epoch: 15]\t lr: 0.001\t       loss_train: 0.0000\tacc_train: 0.9830\n",
      "[Epoch: 16]\t lr: 0.001\t       loss_train: 0.0000\tacc_train: 0.9834\n",
      "[Epoch: 17]\t lr: 0.001\t       loss_train: 0.0000\tacc_train: 0.9835\n",
      "[Epoch: 18]\t lr: 0.001\t       loss_train: 0.0000\tacc_train: 0.9836\n",
      "[Epoch: 19]\t lr: 0.001\t       loss_train: 0.0000\tacc_train: 0.9836\n",
      "[val]\tloss_test: 0.0000\tacc_test: 0.9836\n",
      "[-6.400e-07 -1.270e-06 -1.890e-06 -2.500e-06 -3.100e-06 -3.690e-06\n",
      " -4.270e-06 -4.840e-06 -5.400e-06 -5.950e-06 -6.490e-06 -7.020e-06\n",
      " -7.540e-06 -8.050e-06 -8.550e-06 -9.040e-06 -9.520e-06 -9.990e-06\n",
      " -1.045e-05 -1.090e-05 -1.134e-05 -1.177e-05 -1.219e-05 -1.260e-05\n",
      " -1.300e-05 -1.339e-05 -1.377e-05 -1.414e-05 -1.450e-05 -1.485e-05\n",
      " -1.519e-05 -1.552e-05 -1.584e-05 -1.615e-05 -1.645e-05 -1.674e-05\n",
      " -1.702e-05 -1.729e-05 -1.755e-05 -1.780e-05 -1.804e-05 -1.827e-05\n",
      " -1.849e-05 -1.870e-05 -1.890e-05 -1.909e-05 -1.927e-05 -1.944e-05\n",
      " -1.960e-05 -1.975e-05 -1.989e-05 -2.002e-05 -2.014e-05 -2.025e-05\n",
      " -2.035e-05 -2.044e-05 -2.052e-05 -2.059e-05 -2.065e-05 -2.070e-05\n",
      " -2.074e-05 -2.077e-05 -2.079e-05 -2.080e-05 -2.080e-05 -2.079e-05\n",
      " -2.077e-05 -2.074e-05 -2.070e-05 -2.065e-05 -2.059e-05 -2.052e-05\n",
      " -2.044e-05 -2.035e-05 -2.025e-05 -2.014e-05 -2.002e-05 -1.989e-05\n",
      " -1.975e-05 -1.960e-05 -1.944e-05 -1.927e-05 -1.909e-05 -1.890e-05\n",
      " -1.870e-05 -1.849e-05 -1.827e-05 -1.804e-05 -1.780e-05 -1.755e-05\n",
      " -1.729e-05 -1.702e-05 -1.674e-05 -1.645e-05 -1.615e-05 -1.584e-05\n",
      " -1.552e-05 -1.519e-05 -1.485e-05 -1.450e-05 -1.414e-05 -1.377e-05\n",
      " -1.339e-05 -1.300e-05 -1.260e-05 -1.219e-05 -1.177e-05 -1.134e-05\n",
      " -1.090e-05 -1.045e-05 -9.990e-06 -9.520e-06 -9.040e-06 -8.550e-06\n",
      " -8.050e-06 -7.540e-06 -7.020e-06 -6.490e-06 -5.950e-06 -5.400e-06\n",
      " -4.840e-06 -4.270e-06 -3.690e-06 -3.100e-06 -2.500e-06 -1.890e-06\n",
      " -1.270e-06 -6.400e-07]\n",
      "Solution: [-6.400e-07 -1.270e-06 -1.890e-06 -2.500e-06 -3.100e-06 -3.690e-06\n",
      " -4.270e-06 -4.840e-06 -5.400e-06 -5.950e-06 -6.490e-06 -7.020e-06\n",
      " -7.540e-06 -8.050e-06 -8.550e-06 -9.040e-06 -9.520e-06 -9.990e-06\n",
      " -1.045e-05 -1.090e-05 -1.134e-05 -1.177e-05 -1.219e-05 -1.260e-05\n",
      " -1.300e-05 -1.339e-05 -1.377e-05 -1.414e-05 -1.450e-05 -1.485e-05\n",
      " -1.519e-05 -1.552e-05 -1.584e-05 -1.615e-05 -1.645e-05 -1.674e-05\n",
      " -1.702e-05 -1.729e-05 -1.755e-05 -1.780e-05 -1.804e-05 -1.827e-05\n",
      " -1.849e-05 -1.870e-05 -1.890e-05 -1.909e-05 -1.927e-05 -1.944e-05\n",
      " -1.960e-05 -1.975e-05 -1.989e-05 -2.002e-05 -2.014e-05 -2.025e-05\n",
      " -2.035e-05 -2.044e-05 -2.052e-05 -2.059e-05 -2.065e-05 -2.070e-05\n",
      " -2.074e-05 -2.077e-05 -2.079e-05 -2.080e-05 -2.080e-05 -2.079e-05\n",
      " -2.077e-05 -2.074e-05 -2.070e-05 -2.065e-05 -2.059e-05 -2.052e-05\n",
      " -2.044e-05 -2.035e-05 -2.025e-05 -2.014e-05 -2.002e-05 -1.989e-05\n",
      " -1.975e-05 -1.960e-05 -1.944e-05 -1.927e-05 -1.909e-05 -1.890e-05\n",
      " -1.870e-05 -1.849e-05 -1.827e-05 -1.804e-05 -1.780e-05 -1.755e-05\n",
      " -1.729e-05 -1.702e-05 -1.674e-05 -1.645e-05 -1.615e-05 -1.584e-05\n",
      " -1.552e-05 -1.519e-05 -1.485e-05 -1.450e-05 -1.414e-05 -1.377e-05\n",
      " -1.339e-05 -1.300e-05 -1.260e-05 -1.219e-05 -1.177e-05 -1.134e-05\n",
      " -1.090e-05 -1.045e-05 -9.990e-06 -9.520e-06 -9.040e-06 -8.550e-06\n",
      " -8.050e-06 -7.540e-06 -7.020e-06 -6.490e-06 -5.950e-06 -5.400e-06\n",
      " -4.840e-06 -4.270e-06 -3.690e-06 -3.100e-06 -2.500e-06 -1.890e-06\n",
      " -1.270e-06 -6.400e-07]\n",
      "Info: 0\n",
      "Elapsed time: 0.02392101287841797\n"
     ]
    },
    {
     "name": "stderr",
     "output_type": "stream",
     "text": [
      "/Users/orenyang/.local/lib/python3.7/site-packages/scipy/sparse/linalg/dsolve/linsolve.py:145: SparseEfficiencyWarning: spsolve requires A be CSC or CSR matrix format\n",
      "  SparseEfficiencyWarning)\n"
     ]
    },
    {
     "data": {
      "image/png": "[encoded data removed]",
      "text/plain": [
       "<Figure size 576x216 with 2 Axes>"
      ]
     },
     "metadata": {
      "needs_background": "light"
     },
     "output_type": "display_data"
    }
   ],
   "source": [
    "n_values_train = [nnn]\n",
    "num_samples = 2000\n",
    "training_data = generate_data(num_samples, n_values_train)\n",
    "\n",
    "dataset = Dataset(training_data)\n",
    "\n",
    "#split the dataset into two parts (train 85%, test 15%)\n",
    "test_size = 0.15\n",
    "\n",
    "test_amount= int(dataset.__len__() * test_size)\n",
    "\n",
    "# this function will automatically randomly split your dataset but you could also implement the split yourself\n",
    "train_set, test_set = random_split(dataset, [\n",
    "            (dataset.__len__() - (test_amount)),\n",
    "            test_amount\n",
    "])\n",
    "train_CNN(train_set, test_set)\n",
    "\n",
    "\n",
    "A, b = poisson_equation(nnn)\n",
    "\n",
    "x_exact = spla.spsolve(A, b)\n",
    "\n",
    "model = CNNPreconditioner()\n",
    "\n",
    "x, info, elapsed_time = cg_CNN(A, b, model)\n"
   ]
  },
  {
   "cell_type": "code",
   "execution_count": 16,
   "metadata": {},
   "outputs": [
    {
     "data": {
      "image/png": "[encoded data removed]",
      "text/plain": [
       "<Figure size 432x288 with 1 Axes>"
      ]
     },
     "metadata": {
      "needs_background": "light"
     },
     "output_type": "display_data"
    }
   ],
   "source": [
    "plt.plot(np.linspace(0,nnn*0.01,nnn),x_exact, label='Exact')\n",
    "plt.plot(np.linspace(0,nnn*0.01,nnn),x,'r--',label = 'CNN Preconditioning')\n",
    "\n",
    "plt.title('Poisson Equation, n={}'.format(nnn))\n",
    "plt.legend()\n",
    "plt.show()"
   ]
  },
  {
   "cell_type": "code",
   "execution_count": 17,
   "metadata": {},
   "outputs": [
    {
     "name": "stdout",
     "output_type": "stream",
     "text": [
      "n=128, Preconditioner=Jacobi, Computation Time=0.0084 seconds, Relative Error=3.1523e-15\n",
      "n=128, Preconditioner=Gauss-Seidel, Computation Time=0.0020 seconds, Relative Error=1.4993e-14\n",
      "n=128, Preconditioner=Incomplete Cholesky, Computation Time=0.0027 seconds, Relative Error=1.6580e-13\n",
      "n=128, Preconditioner=CNN, Computation Time=0.0182 seconds, Relative Error=4.0131e-15\n",
      "n=128, Preconditioner=Exact, Computation Time=0.0003 seconds, Relative Error=0.0000\n",
      "---------------\n"
     ]
    }
   ],
   "source": [
    "# TEST \n",
    "n_values_test = [nnn]\n",
    "results = results_test(n_values_test, num_samples=2000)\n",
    "\n",
    "# dataframe the result \n",
    "df = pd.DataFrame(results, columns=[\"n\", \"Preconditioner\", \"Computation Time (s)\", \"Relative Error\"])"
   ]
  },
  {
   "cell_type": "code",
   "execution_count": 18,
   "metadata": {},
   "outputs": [],
   "source": [
    "def heat_equation(n, alpha=0.34, dt=0.01, dx=1.0):\n",
    "    r = alpha * dt / (dx ** 2)\n",
    "    main_diag = (1 - 2 * r) * np.ones(n)\n",
    "    off_diag = r * np.ones(n - 1)\n",
    "    diagonals = [off_diag, main_diag, off_diag]\n",
    "    offsets = [-1, 0, 1]\n",
    "    A = diags(diagonals, offsets, shape=(n, n)).toarray()\n",
    "    b = np.ones(n) + 0.00001 * np.random.randn(n)  # with noise\n",
    "    return A, b\n"
   ]
  },
  {
   "cell_type": "code",
   "execution_count": 19,
   "metadata": {},
   "outputs": [
    {
     "name": "stdout",
     "output_type": "stream",
     "text": [
      "[Epoch: 0]\t lr: 0.001\t       loss_train: 0.0036\tacc_train: 0.0716\n",
      "[Epoch: 1]\t lr: 0.001\t       loss_train: 0.0002\tacc_train: 0.2695\n",
      "[Epoch: 2]\t lr: 0.001\t       loss_train: 0.0001\tacc_train: 0.7572\n",
      "[Epoch: 3]\t lr: 0.001\t       loss_train: 0.0001\tacc_train: 0.8799\n",
      "[Epoch: 4]\t lr: 0.001\t       loss_train: 0.0001\tacc_train: 0.9032\n",
      "[val]\tloss_test: 0.0001\tacc_test: 0.9094\n",
      "[Epoch: 5]\t lr: 0.001\t       loss_train: 0.0001\tacc_train: 0.9094\n",
      "[Epoch: 6]\t lr: 0.001\t       loss_train: 0.0001\tacc_train: 0.9105\n",
      "[Epoch: 7]\t lr: 0.001\t       loss_train: 0.0001\tacc_train: 0.9236\n",
      "[Epoch: 8]\t lr: 0.001\t       loss_train: 0.0000\tacc_train: 0.9262\n",
      "[Epoch: 9]\t lr: 0.001\t       loss_train: 0.0000\tacc_train: 0.9314\n",
      "[val]\tloss_test: 0.0000\tacc_test: 0.9313\n",
      "[Epoch: 10]\t lr: 0.001\t       loss_train: 0.0000\tacc_train: 0.9314\n",
      "[Epoch: 11]\t lr: 0.001\t       loss_train: 0.0000\tacc_train: 0.9315\n",
      "[Epoch: 12]\t lr: 0.001\t       loss_train: 0.0000\tacc_train: 0.9414\n",
      "[Epoch: 13]\t lr: 0.001\t       loss_train: 0.0000\tacc_train: 0.9526\n",
      "[Epoch: 14]\t lr: 0.001\t       loss_train: 0.0000\tacc_train: 0.9561\n",
      "[val]\tloss_test: 0.0000\tacc_test: 0.9606\n",
      "[Epoch: 15]\t lr: 0.001\t       loss_train: 0.0000\tacc_train: 0.9594\n",
      "[Epoch: 16]\t lr: 0.001\t       loss_train: 0.0000\tacc_train: 0.9562\n",
      "[Epoch: 17]\t lr: 0.001\t       loss_train: 0.0000\tacc_train: 0.9659\n",
      "[Epoch: 18]\t lr: 0.001\t       loss_train: 0.0000\tacc_train: 0.9610\n",
      "[Epoch: 19]\t lr: 0.001\t       loss_train: 0.0000\tacc_train: 0.9606\n",
      "[val]\tloss_test: 0.0000\tacc_test: 0.9606\n",
      "[1.00342439 0.99997875 1.00000018 1.00000877 1.0000097  1.00000801\n",
      " 1.0000164  0.99999064 0.99999275 1.00000373 1.00001808 1.00001632\n",
      " 1.00001097 0.99999934 1.00000629 0.99997812 0.99999634 1.00000146\n",
      " 0.99999801 1.00000973 0.99999993 0.99999876 0.99999863 0.99999494\n",
      " 1.00000282 0.99998621 0.99999882 1.00000586 1.0000053  0.99999825\n",
      " 0.99998667 1.00000163 1.00000335 0.99997725 1.00000891 1.00001589\n",
      " 0.99999187 1.00000685 1.000009   0.99999987 0.99999385 1.00000179\n",
      " 0.9999994  0.99999993 1.00002322 1.00000784 0.99999517 1.00000118\n",
      " 0.99999326 0.99999932 1.0000025  0.99999752 0.99999977 1.00001371\n",
      " 1.00000155 0.99999604 0.99999405 0.99998962 1.00000477 1.00001171\n",
      " 1.00000177 1.00000368 0.99999982 0.99999825 0.99999937 0.99999892\n",
      " 0.99999856 1.000015   1.00000516 1.00000831 0.99999826 0.99999878\n",
      " 1.00000307 0.99999191 1.00001052 1.00001648 1.00000949 0.99999641\n",
      " 1.00001313 0.99998407 1.00000768 1.00000993 1.0000028  0.99999353\n",
      " 1.00000708 0.99999023 0.99998438 1.00001338 1.00000939 1.00000314\n",
      " 0.99999628 0.99999201 1.00001911 0.99998982 0.99999667 1.00000174\n",
      " 0.9999877  1.00000055 0.99999982 0.99999459 0.99999408 1.00000285\n",
      " 0.99998552 0.99999289 0.99997777 0.99999498 1.00000011 0.99999861\n",
      " 1.00000005 0.99998979 1.00000803 1.00001353 1.00000909 0.99998531\n",
      " 1.00000213 0.99999423 1.00000001 1.00001148 0.99997848 0.99999853\n",
      " 0.99999035 1.00001191 1.00000606 1.00000331 1.00000729 0.99999689\n",
      " 0.9999941  1.00341904]\n",
      "Solution: [1.00342439 0.99997875 1.00000018 1.00000877 1.0000097  1.00000801\n",
      " 1.0000164  0.99999064 0.99999275 1.00000373 1.00001808 1.00001632\n",
      " 1.00001097 0.99999934 1.00000629 0.99997812 0.99999634 1.00000146\n",
      " 0.99999801 1.00000973 0.99999993 0.99999876 0.99999863 0.99999494\n",
      " 1.00000282 0.99998621 0.99999882 1.00000586 1.0000053  0.99999825\n",
      " 0.99998667 1.00000163 1.00000335 0.99997725 1.00000891 1.00001589\n",
      " 0.99999187 1.00000685 1.000009   0.99999987 0.99999385 1.00000179\n",
      " 0.9999994  0.99999993 1.00002322 1.00000784 0.99999517 1.00000118\n",
      " 0.99999326 0.99999932 1.0000025  0.99999752 0.99999977 1.00001371\n",
      " 1.00000155 0.99999604 0.99999405 0.99998962 1.00000477 1.00001171\n",
      " 1.00000177 1.00000368 0.99999982 0.99999825 0.99999937 0.99999892\n",
      " 0.99999856 1.000015   1.00000516 1.00000831 0.99999826 0.99999878\n",
      " 1.00000307 0.99999191 1.00001052 1.00001648 1.00000949 0.99999641\n",
      " 1.00001313 0.99998407 1.00000768 1.00000993 1.0000028  0.99999353\n",
      " 1.00000708 0.99999023 0.99998438 1.00001338 1.00000939 1.00000314\n",
      " 0.99999628 0.99999201 1.00001911 0.99998982 0.99999667 1.00000174\n",
      " 0.9999877  1.00000055 0.99999982 0.99999459 0.99999408 1.00000285\n",
      " 0.99998552 0.99999289 0.99997777 0.99999498 1.00000011 0.99999861\n",
      " 1.00000005 0.99998979 1.00000803 1.00001353 1.00000909 0.99998531\n",
      " 1.00000213 0.99999423 1.00000001 1.00001148 0.99997848 0.99999853\n",
      " 0.99999035 1.00001191 1.00000606 1.00000331 1.00000729 0.99999689\n",
      " 0.9999941  1.00341904]\n",
      "Info: 0\n",
      "Elapsed time: 0.011918067932128906\n"
     ]
    },
    {
     "data": {
      "image/png": "[encoded data removed]",
      "text/plain": [
       "<Figure size 576x216 with 2 Axes>"
      ]
     },
     "metadata": {
      "needs_background": "light"
     },
     "output_type": "display_data"
    }
   ],
   "source": [
    "n_values_train = [nnn]\n",
    "num_samples = 2000\n",
    "training_data = generate_data(num_samples, n_values_train, equation_type='heat')\n",
    "\n",
    "dataset = Dataset(training_data)\n",
    "\n",
    "#split the dataset into two parts (train 85%, test 15%)\n",
    "test_size = 0.15\n",
    "\n",
    "test_amount= int(dataset.__len__() * test_size)\n",
    "\n",
    "# this function will automatically randomly split your dataset but you could also implement the split yourself\n",
    "train_set, test_set = random_split(dataset, [\n",
    "            (dataset.__len__() - (test_amount)),\n",
    "            test_amount\n",
    "])\n",
    "train_CNN(train_set, test_set)\n",
    "\n",
    "\n",
    "A, b = heat_equation(nnn)\n",
    "\n",
    "x_exact = spla.spsolve(A, b)\n",
    "\n",
    "model = CNNPreconditioner()\n",
    "\n",
    "x, info, elapsed_time = cg_CNN(A, b, model)\n"
   ]
  },
  {
   "cell_type": "code",
   "execution_count": 20,
   "metadata": {},
   "outputs": [
    {
     "data": {
      "image/png": "[encoded data removed]",
      "text/plain": [
       "<Figure size 432x288 with 1 Axes>"
      ]
     },
     "metadata": {
      "needs_background": "light"
     },
     "output_type": "display_data"
    }
   ],
   "source": [
    "plt.plot(np.linspace(0,nnn*0.01,nnn),x_exact, label='Exact')\n",
    "plt.plot(np.linspace(0,nnn*0.01,nnn),x,'r--',label = 'CNN Preconditioning')\n",
    "\n",
    "plt.title('Heat Equation, n={}'.format(nnn))\n",
    "plt.legend()\n",
    "plt.show()"
   ]
  },
  {
   "cell_type": "code",
   "execution_count": 21,
   "metadata": {},
   "outputs": [
    {
     "name": "stdout",
     "output_type": "stream",
     "text": [
      "n=128, Preconditioner=Jacobi, Computation Time=0.0052 seconds, Relative Error=1.7026e-11\n",
      "n=128, Preconditioner=Gauss-Seidel, Computation Time=0.0018 seconds, Relative Error=1.5792e-16\n",
      "n=128, Preconditioner=Incomplete Cholesky, Computation Time=0.0024 seconds, Relative Error=6.8167e-11\n",
      "n=128, Preconditioner=CNN, Computation Time=0.0115 seconds, Relative Error=6.8874e-11\n",
      "n=128, Preconditioner=Exact, Computation Time=0.0006 seconds, Relative Error=0.0000\n",
      "---------------\n"
     ]
    }
   ],
   "source": [
    "# TEST \n",
    "n_values_test = [nnn]\n",
    "results = results_test(n_values_test, num_samples=2000,equation_type='heat')\n",
    "\n",
    "# dataframe the result \n",
    "df = pd.DataFrame(results, columns=[\"n\", \"Preconditioner\", \"Computation Time (s)\", \"Relative Error\"])"
   ]
  },
  {
   "cell_type": "code",
   "execution_count": 22,
   "metadata": {},
   "outputs": [],
   "source": [
    "def wave_equation(n, c=1.0, dt=0.01, dx=1):\n",
    "    r = (c * dt / dx) ** 2\n",
    "    main_diag = (2 - 2 * r) * np.ones(n)\n",
    "    off_diag = r * np.ones(n-1)\n",
    "    diagonals = [off_diag, main_diag, off_diag]\n",
    "    offsets = [-1, 0, 1]\n",
    "    A = diags(diagonals, offsets, shape=(n, n)).toarray()\n",
    "    b = np.ones(n) + 0.00001 * np.random.randn(n)  # with noise\n",
    "    return A, b"
   ]
  },
  {
   "cell_type": "code",
   "execution_count": 23,
   "metadata": {},
   "outputs": [
    {
     "name": "stdout",
     "output_type": "stream",
     "text": [
      "[Epoch: 0]\t lr: 0.001\t       loss_train: 0.0007\tacc_train: 0.0730\n",
      "[Epoch: 1]\t lr: 0.001\t       loss_train: 0.0000\tacc_train: 0.4394\n",
      "[Epoch: 2]\t lr: 0.001\t       loss_train: 0.0000\tacc_train: 0.8412\n",
      "[Epoch: 3]\t lr: 0.001\t       loss_train: 0.0000\tacc_train: 0.9085\n",
      "[Epoch: 4]\t lr: 0.001\t       loss_train: 0.0000\tacc_train: 0.9305\n",
      "[val]\tloss_test: 0.0000\tacc_test: 0.9387\n",
      "[Epoch: 5]\t lr: 0.001\t       loss_train: 0.0000\tacc_train: 0.9429\n",
      "[Epoch: 6]\t lr: 0.001\t       loss_train: 0.0000\tacc_train: 0.9523\n",
      "[Epoch: 7]\t lr: 0.001\t       loss_train: 0.0000\tacc_train: 0.9686\n",
      "[Epoch: 8]\t lr: 0.001\t       loss_train: 0.0000\tacc_train: 0.9823\n",
      "[Epoch: 9]\t lr: 0.001\t       loss_train: 0.0000\tacc_train: 0.9812\n",
      "[val]\tloss_test: 0.0000\tacc_test: 0.9827\n",
      "[Epoch: 10]\t lr: 0.001\t       loss_train: 0.0000\tacc_train: 0.9827\n",
      "[Epoch: 11]\t lr: 0.001\t       loss_train: 0.0000\tacc_train: 0.9827\n",
      "[Epoch: 12]\t lr: 0.001\t       loss_train: 0.0000\tacc_train: 0.9827\n",
      "[Epoch: 13]\t lr: 0.001\t       loss_train: 0.0000\tacc_train: 0.9827\n",
      "[Epoch: 14]\t lr: 0.001\t       loss_train: 0.0000\tacc_train: 0.9827\n",
      "[val]\tloss_test: 0.0000\tacc_test: 0.9829\n",
      "[Epoch: 15]\t lr: 0.001\t       loss_train: 0.0000\tacc_train: 0.9829\n",
      "[Epoch: 16]\t lr: 0.001\t       loss_train: 0.0000\tacc_train: 0.9874\n",
      "[Epoch: 17]\t lr: 0.001\t       loss_train: 0.0000\tacc_train: 0.9902\n",
      "[Epoch: 18]\t lr: 0.001\t       loss_train: 0.0000\tacc_train: 0.9903\n",
      "[Epoch: 19]\t lr: 0.001\t       loss_train: 0.0000\tacc_train: 0.9903\n",
      "[val]\tloss_test: 0.0000\tacc_test: 0.9902\n",
      "[0.50002589 0.50000493 0.50000443 0.49999848 0.5000092  0.50001034\n",
      " 0.50000468 0.49999593 0.49999075 0.50001135 0.49999954 0.49999486\n",
      " 0.49999502 0.49999782 0.49999149 0.4999984  0.49999264 0.49999661\n",
      " 0.49999268 0.50000139 0.50000614 0.4999953  0.50000022 0.50000603\n",
      " 0.4999957  0.50000249 0.50000384 0.50000046 0.49999604 0.50000094\n",
      " 0.5000025  0.5000073  0.49999224 0.49999095 0.49999764 0.50000451\n",
      " 0.50000614 0.50000307 0.50000408 0.50000423 0.49999714 0.49999925\n",
      " 0.50000644 0.50000013 0.50000012 0.49999419 0.49999538 0.49999192\n",
      " 0.49999756 0.49999036 0.49999542 0.49999945 0.50000501 0.49999695\n",
      " 0.50000029 0.50000846 0.49999837 0.49999836 0.50000832 0.50000406\n",
      " 0.49999382 0.50000243 0.49999619 0.49999805 0.50000076 0.50000073\n",
      " 0.50000647 0.50000016 0.49999676 0.49999046 0.50000141 0.49999285\n",
      " 0.4999994  0.50000042 0.49999906 0.50000265 0.49998968 0.50000358\n",
      " 0.49999912 0.4999928  0.50000703 0.5000028  0.49999503 0.49999147\n",
      " 0.49999577 0.50000215 0.50000263 0.49999928 0.50000092 0.50000418\n",
      " 0.50000091 0.50000337 0.49999795 0.49999785 0.4999893  0.50000212\n",
      " 0.50000109 0.50000341 0.49999078 0.5000044  0.4999985  0.50000691\n",
      " 0.50000834 0.49999621 0.50000266 0.49999988 0.50000675 0.50000096\n",
      " 0.50000563 0.49999433 0.50000371 0.50000744 0.49999445 0.50000257\n",
      " 0.50000112 0.49999327 0.50000046 0.50000588 0.49999752 0.50000198\n",
      " 0.50000102 0.49999779 0.49999902 0.50000268 0.50001083 0.49999755\n",
      " 0.50000463 0.50002789]\n",
      "Solution: [0.50002589 0.50000493 0.50000443 0.49999848 0.5000092  0.50001034\n",
      " 0.50000468 0.49999593 0.49999075 0.50001135 0.49999954 0.49999486\n",
      " 0.49999502 0.49999782 0.49999149 0.4999984  0.49999264 0.49999661\n",
      " 0.49999268 0.50000139 0.50000614 0.4999953  0.50000022 0.50000603\n",
      " 0.4999957  0.50000249 0.50000384 0.50000046 0.49999604 0.50000094\n",
      " 0.5000025  0.5000073  0.49999224 0.49999095 0.49999764 0.50000451\n",
      " 0.50000614 0.50000307 0.50000408 0.50000423 0.49999714 0.49999925\n",
      " 0.50000644 0.50000013 0.50000012 0.49999419 0.49999538 0.49999192\n",
      " 0.49999756 0.49999036 0.49999542 0.49999945 0.50000501 0.49999695\n",
      " 0.50000029 0.50000846 0.49999837 0.49999836 0.50000832 0.50000406\n",
      " 0.49999382 0.50000243 0.49999619 0.49999805 0.50000076 0.50000073\n",
      " 0.50000647 0.50000016 0.49999676 0.49999046 0.50000141 0.49999285\n",
      " 0.4999994  0.50000042 0.49999906 0.50000265 0.49998968 0.50000358\n",
      " 0.49999912 0.4999928  0.50000703 0.5000028  0.49999503 0.49999147\n",
      " 0.49999577 0.50000215 0.50000263 0.49999928 0.50000092 0.50000418\n",
      " 0.50000091 0.50000337 0.49999795 0.49999785 0.4999893  0.50000212\n",
      " 0.50000109 0.50000341 0.49999078 0.5000044  0.4999985  0.50000691\n",
      " 0.50000834 0.49999621 0.50000266 0.49999988 0.50000675 0.50000096\n",
      " 0.50000563 0.49999433 0.50000371 0.50000744 0.49999445 0.50000257\n",
      " 0.50000112 0.49999327 0.50000046 0.50000588 0.49999752 0.50000198\n",
      " 0.50000102 0.49999779 0.49999902 0.50000268 0.50001083 0.49999755\n",
      " 0.50000463 0.50002789]\n",
      "Info: 0\n",
      "Elapsed time: 0.011887073516845703\n"
     ]
    },
    {
     "data": {
      "image/png": "[encoded data removed]",
      "text/plain": [
       "<Figure size 576x216 with 2 Axes>"
      ]
     },
     "metadata": {
      "needs_background": "light"
     },
     "output_type": "display_data"
    }
   ],
   "source": [
    "n_values_train = [nnn]\n",
    "num_samples = 2000\n",
    "training_data = generate_data(num_samples, n_values_train, equation_type='wave')\n",
    "\n",
    "dataset = Dataset(training_data)\n",
    "\n",
    "#split the dataset into two parts (train 85%, test 15%)\n",
    "test_size = 0.15\n",
    "\n",
    "test_amount= int(dataset.__len__() * test_size)\n",
    "\n",
    "# this function will automatically randomly split your dataset but you could also implement the split yourself\n",
    "train_set, test_set = random_split(dataset, [\n",
    "            (dataset.__len__() - (test_amount)),\n",
    "            test_amount\n",
    "])\n",
    "train_CNN(train_set, test_set)\n",
    "\n",
    "\n",
    "A, b = wave_equation(nnn)\n",
    "\n",
    "x_exact = spla.spsolve(A, b)\n",
    "\n",
    "model = CNNPreconditioner()\n",
    "\n",
    "x, info, elapsed_time = cg_CNN(A, b, model)\n"
   ]
  },
  {
   "cell_type": "code",
   "execution_count": 24,
   "metadata": {},
   "outputs": [
    {
     "data": {
      "image/png": "[encoded data removed]",
      "text/plain": [
       "<Figure size 432x288 with 1 Axes>"
      ]
     },
     "metadata": {
      "needs_background": "light"
     },
     "output_type": "display_data"
    }
   ],
   "source": [
    "plt.plot(np.linspace(0,nnn*0.01,nnn),x_exact, label='Exact')\n",
    "plt.plot(np.linspace(0,nnn*0.01,nnn),x,'r--',label = 'CNN Preconditioning')\n",
    "\n",
    "plt.title('Wave Equation, n={}'.format(nnn))\n",
    "plt.legend()\n",
    "plt.show()"
   ]
  },
  {
   "cell_type": "code",
   "execution_count": 25,
   "metadata": {},
   "outputs": [
    {
     "name": "stdout",
     "output_type": "stream",
     "text": [
      "n=128, Preconditioner=Jacobi, Computation Time=0.0033 seconds, Relative Error=1.7026e-11\n",
      "n=128, Preconditioner=Gauss-Seidel, Computation Time=0.0028 seconds, Relative Error=1.5669e-16\n",
      "n=128, Preconditioner=Incomplete Cholesky, Computation Time=0.0034 seconds, Relative Error=2.0396e-11\n",
      "n=128, Preconditioner=CNN, Computation Time=0.0123 seconds, Relative Error=8.6743e-11\n",
      "n=128, Preconditioner=Exact, Computation Time=0.0021 seconds, Relative Error=0.0000\n",
      "---------------\n"
     ]
    }
   ],
   "source": [
    "# TEST \n",
    "n_values_test = [nnn]\n",
    "results = results_test(n_values_test, num_samples=2000, equation_type='wave')\n",
    "\n",
    "# dataframe the result \n",
    "df = pd.DataFrame(results, columns=[\"n\", \"Preconditioner\", \"Computation Time (s)\", \"Relative Error\"])"
   ]
  },
  {
   "cell_type": "code",
   "execution_count": null,
   "metadata": {},
   "outputs": [],
   "source": []
  }
 ],
 "metadata": {
  "kernelspec": {
   "display_name": "Python 3",
   "language": "python",
   "name": "python3"
  },
  "language_info": {
   "codemirror_mode": {
    "name": "ipython",
    "version": 3
   },
   "file_extension": ".py",
   "mimetype": "text/x-python",
   "name": "python",
   "nbconvert_exporter": "python",
   "pygments_lexer": "ipython3",
   "version": "3.7.4"
  }
 },
 "nbformat": 4,
 "nbformat_minor": 2
}
